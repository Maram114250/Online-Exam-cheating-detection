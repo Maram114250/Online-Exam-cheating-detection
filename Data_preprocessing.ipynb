{
  "nbformat": 4,
  "nbformat_minor": 0,
  "metadata": {
    "colab": {
      "provenance": []
    },
    "kernelspec": {
      "name": "python3",
      "display_name": "Python 3"
    },
    "language_info": {
      "name": "python"
    }
  },
  "cells": [
    {
      "cell_type": "code",
      "execution_count": 1,
      "metadata": {
        "colab": {
          "base_uri": "https://localhost:8080/"
        },
        "id": "N0fozn36DYsA",
        "outputId": "171a692d-b237-473f-83b5-5d7b6a36e880"
      },
      "outputs": [
        {
          "output_type": "stream",
          "name": "stdout",
          "text": [
            "Drive already mounted at /content/drive; to attempt to forcibly remount, call drive.mount(\"/content/drive\", force_remount=True).\n"
          ]
        }
      ],
      "source": [
        "from google.colab import drive\n",
        "drive.mount('/content/drive')"
      ]
    },
    {
      "cell_type": "code",
      "source": [
        "print(\"Train images:\", len(os.listdir('/content/drive/MyDrive/Exam-cheating-yolo/train/images')))\n",
        "print(\"Train labels:\", len(os.listdir('/content/drive/MyDrive/Exam-cheating-yolo/train/labels')))\n",
        "print(\"Val images:\", len(os.listdir('/content/drive/MyDrive/Exam-cheating-yolo/val/images')))\n",
        "print(\"Val labels:\", len(os.listdir('/content/drive/MyDrive/Exam-cheating-yolo/val/labels')))\n"
      ],
      "metadata": {
        "colab": {
          "base_uri": "https://localhost:8080/"
        },
        "id": "PKHn-7AOEc3X",
        "outputId": "3d4fc7b5-03de-4328-c575-2d116cdc3702"
      },
      "execution_count": 3,
      "outputs": [
        {
          "output_type": "stream",
          "name": "stdout",
          "text": [
            "Train images: 1756\n",
            "Train labels: 1375\n",
            "Val images: 0\n",
            "Val labels: 0\n"
          ]
        }
      ]
    },
    {
      "cell_type": "code",
      "source": [
        "import random\n",
        "\n",
        "image_files = [f for f in os.listdir(images_path) if f.endswith(('.jpg', '.png', '.jpeg'))]\n",
        "\n",
        "random.shuffle(image_files)\n",
        "\n",
        "split_idx = int(0.8 * len(image_files))\n",
        "train_files = image_files[:split_idx]\n",
        "val_files = image_files[split_idx:]\n",
        "\n",
        "print(f\"Total images: {len(image_files)}\")\n",
        "print(f\"Train: {len(train_files)}, Val: {len(val_files)}\")\n"
      ],
      "metadata": {
        "colab": {
          "base_uri": "https://localhost:8080/"
        },
        "id": "rzgylt3HEc1D",
        "outputId": "f539f890-2e77-491d-f4f0-98742eff42e8"
      },
      "execution_count": 6,
      "outputs": [
        {
          "output_type": "stream",
          "name": "stdout",
          "text": [
            "Total images: 2837\n",
            "Train: 2269, Val: 568\n"
          ]
        }
      ]
    },
    {
      "cell_type": "code",
      "source": [
        "import os\n",
        "\n",
        "base_path = \"/content/drive/MyDrive/Exam-cheating\"\n",
        "images_path = os.path.join(base_path, \"images\")\n",
        "labels_path = os.path.join(base_path, \"labels\")\n",
        "\n",
        "output_path = \"/content/drive/MyDrive/Exam-cheating-yolo\"\n",
        "train_img = os.path.join(output_path, \"train/images\")\n",
        "train_lbl = os.path.join(output_path, \"train/labels\")\n",
        "val_img = os.path.join(output_path, \"val/images\")\n",
        "val_lbl = os.path.join(output_path, \"val/labels\")\n",
        "\n",
        "os.makedirs(train_img, exist_ok=True)\n",
        "os.makedirs(train_lbl, exist_ok=True)\n",
        "os.makedirs(val_img, exist_ok=True)\n",
        "os.makedirs(val_lbl, exist_ok=True)\n"
      ],
      "metadata": {
        "id": "oWFELlZEOnsq"
      },
      "execution_count": 8,
      "outputs": []
    },
    {
      "cell_type": "code",
      "source": [
        "import shutil\n",
        "\n",
        "def copy_files(files, dest_img, dest_lbl):\n",
        "    for f in files:\n",
        "        # الصورة\n",
        "        img_src = os.path.join(images_path, f)\n",
        "        img_dest = os.path.join(dest_img, f)\n",
        "        if not os.path.exists(img_dest):\n",
        "            shutil.copy(img_src, img_dest)\n",
        "\n",
        "        # الليبل\n",
        "        label_file = f.rsplit('.', 1)[0] + \".txt\"\n",
        "        lbl_src = os.path.join(labels_path, label_file)\n",
        "        lbl_dest = os.path.join(dest_lbl, label_file)\n",
        "        if os.path.exists(lbl_src) and not os.path.exists(lbl_dest):\n",
        "            shutil.copy(lbl_src, lbl_dest)\n",
        "\n",
        "copy_files(train_files, train_img, train_lbl)\n",
        "copy_files(val_files, val_img, val_lbl)\n",
        "\n",
        "print(\"✅ النقل اكتمل أو تم استكماله.\")"
      ],
      "metadata": {
        "colab": {
          "base_uri": "https://localhost:8080/"
        },
        "id": "7nCmb7yREcxh",
        "outputId": "5c770fc5-db4b-48db-8476-69bad1030607"
      },
      "execution_count": 9,
      "outputs": [
        {
          "output_type": "stream",
          "name": "stdout",
          "text": [
            "✅ النقل اكتمل أو تم استكماله.\n"
          ]
        }
      ]
    },
    {
      "cell_type": "code",
      "source": [
        "print(\"Train images:\", len(os.listdir(train_img)))\n",
        "print(\"Train labels:\", len(os.listdir(train_lbl)))\n",
        "print(\"Val images:\", len(os.listdir(val_img)))\n",
        "print(\"Val labels:\", len(os.listdir(val_lbl)))\n"
      ],
      "metadata": {
        "colab": {
          "base_uri": "https://localhost:8080/"
        },
        "id": "zCt1AkK4T5eD",
        "outputId": "62bec862-bfb5-49f0-c3b5-225c41e7f5e4"
      },
      "execution_count": 10,
      "outputs": [
        {
          "output_type": "stream",
          "name": "stdout",
          "text": [
            "Train images: 2621\n",
            "Train labels: 2045\n",
            "Val images: 568\n",
            "Val labels: 450\n"
          ]
        }
      ]
    },
    {
      "cell_type": "code",
      "source": [
        "yaml_content = f\"\"\"\n",
        "train: {output_path}/train/images\n",
        "val: {output_path}/val/images\n",
        "\n",
        "nc: 6\n",
        "names: [\"calculator\", \"person\", \"phone\", \"student cheating\", \"paper\", \"student-not-cheating\"]\n",
        "\"\"\"\n",
        "\n",
        "with open(os.path.join(output_path, \"data.yaml\"), \"w\") as f:\n",
        "    f.write(yaml_content)\n",
        "\n",
        "print(\"✅ Data split and data.yaml file created successfully!\")"
      ],
      "metadata": {
        "colab": {
          "base_uri": "https://localhost:8080/"
        },
        "id": "ULG0IYNoEcuw",
        "outputId": "9a4741c4-6598-430d-82bf-55cf3e7de9eb"
      },
      "execution_count": 11,
      "outputs": [
        {
          "output_type": "stream",
          "name": "stdout",
          "text": [
            "✅ Data split and data.yaml file created successfully!\n"
          ]
        }
      ]
    },
    {
      "cell_type": "code",
      "source": [],
      "metadata": {
        "id": "jUn5dwicEcsK"
      },
      "execution_count": null,
      "outputs": []
    },
    {
      "cell_type": "code",
      "source": [],
      "metadata": {
        "id": "HvQibGqJEcjQ"
      },
      "execution_count": null,
      "outputs": []
    }
  ]
}